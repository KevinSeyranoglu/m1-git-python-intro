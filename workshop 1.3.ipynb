{
 "nbformat": 4,
 "nbformat_minor": 2,
 "metadata": {
  "language_info": {
   "name": "python",
   "codemirror_mode": {
    "name": "ipython",
    "version": 3
   },
   "version": "3.7.4-final"
  },
  "orig_nbformat": 2,
  "file_extension": ".py",
  "mimetype": "text/x-python",
  "name": "python",
  "npconvert_exporter": "python",
  "pygments_lexer": "ipython3",
  "version": 3,
  "kernelspec": {
   "name": "python3",
   "display_name": "Python 3"
  }
 },
 "cells": [
  {
   "cell_type": "code",
   "execution_count": 1,
   "metadata": {},
   "outputs": [],
   "source": [
    "import math \n",
    "import numpy as np\n"
   ]
  },
  {
   "cell_type": "markdown",
   "metadata": {},
   "source": [
    "# Warmup: adder function\n",
    "\n",
    "Create a function that takes two numbers as arguments and return their sum.\n",
    "Examples\n",
    "\n",
    "addition(3, 2) ➞ 5\n",
    "\n",
    "addition(-3, -6) ➞ -9\n",
    "\n",
    "addition(7, 3) ➞ 10"
   ]
  },
  {
   "source": [
    "# Warmup 2: even numbers\n",
    "\n",
    "Generate a Python list of all the even numbers between 4 to 3048"
   ],
   "cell_type": "markdown",
   "metadata": {}
  },
  {
   "cell_type": "code",
   "execution_count": 2,
   "metadata": {},
   "outputs": [
    {
     "output_type": "execute_result",
     "data": {
      "text/plain": [
       "'\\n#warmup 2\\nList=[]\\nfor n in range(2,3048+1):\\n    if n%2==0:\\n        List.append(n)\\nprint(List)\\n '"
      ]
     },
     "metadata": {},
     "execution_count": 2
    }
   ],
   "source": [
    "#-------------------------------------------------------Warmup------------------------------------------------------------\n",
    "#Warmup: adder function\n",
    "def adder(x,y):\n",
    "    return x+y\n",
    "'''\n",
    "#warmup 2\n",
    "List=[]\n",
    "for n in range(2,3048+1):\n",
    "    if n%2==0:\n",
    "        List.append(n)\n",
    "print(List)\n",
    " '''   \n",
    "\n",
    " \n",
    "#-------------------------------------------------------------------------------------------------------------------------"
   ]
  },
  {
   "cell_type": "markdown",
   "metadata": {},
   "source": [
    "# Exercise 1: First and Last \n",
    "\n",
    "Creates a function that takes a string and returns the first and last character.\n",
    "### Examples\n",
    "\n",
    "```\n",
    "first_last(\"ganesh\") ➞ \"gh\"\n",
    "\n",
    "first_last(\"kali\") ➞ \"ki\"\n",
    "\n",
    "first_last(\"shiva\") ➞ \"sa\"\n",
    "\n",
    "first_last(\"vishnu\") ➞ \"vu\"\n",
    "\n",
    "first_last(\"durga\") ➞ \"da\"\n",
    "```"
   ]
  },
  {
   "cell_type": "code",
   "execution_count": 3,
   "metadata": {},
   "outputs": [
    {
     "output_type": "stream",
     "name": "stdout",
     "text": [
      "gh\nki\nsa\nvu\nda\n"
     ]
    }
   ],
   "source": [
    "#-------------------------------------------------------------------------------------------------------------------------\n",
    "\n",
    "\n",
    "# Exercise 1: First and Last \n",
    "# Creates a function that takes a string and returns the first and last character.\n",
    "\n",
    "def first_last(String):\n",
    "    '''\n",
    "    Function that takes a string and returns the first and last character.\n",
    "    '''\n",
    "    return(String[0]+String[-1]) #string[0] is the 1st element of the str and string[-1] is the last one \n",
    "\n",
    "\n",
    "#-------------------------------------------------------------------------------------------------------------------------\n",
    "# Results: Exercise 1: First and Last \n",
    "\n",
    "print(first_last(\"ganesh\"))\n",
    "\n",
    "print(first_last(\"kali\"))\n",
    "\n",
    "print(first_last(\"shiva\"))\n",
    "\n",
    "print(first_last(\"vishnu\"))\n",
    "\n",
    "print(first_last(\"durga\")) \n"
   ]
  },
  {
   "cell_type": "markdown",
   "metadata": {},
   "source": [
    "# Exercise 2: Keys in Dict\n",
    "\n",
    "Write a function that returns `True` if a dictionary contains the specified key, and `False` otherwise.\n",
    "\n",
    "### Examples\n",
    "\n",
    "```\n",
    "has_key({ \"a\": 44, \"b\": 45, \"c\": 46 }, \"d\") ➞ False\n",
    "\n",
    "has_key({ \"craves\": True, \"midnight\": True, \"snack\": True }, \"morning\") ➞ False\n",
    "\n",
    "has_key({ \"pot\": 1, \"tot\": 2, \"not\": 3 }, \"not\") ➞ True\n",
    "```"
   ]
  },
  {
   "cell_type": "code",
   "execution_count": 4,
   "metadata": {},
   "outputs": [
    {
     "output_type": "stream",
     "name": "stdout",
     "text": [
      "False\nFalse\nTrue\n"
     ]
    }
   ],
   "source": [
    "#-------------------------------------------------------------------------------------------------------------------------\n",
    "\n",
    "\n",
    "#Exercise 2: Keys in Dict\n",
    "def has_key(Dict,Key):\n",
    "    '''\n",
    "    Function that returns True if a dictionary contains the specified key, and False otherwise.\n",
    "    '''\n",
    "    BoolSum=0 #Initial value of BoolSum \n",
    "    for i in Dict:\n",
    "        if (i==Key) is True:\n",
    "            BoolSum+=True # True is = to 1 \n",
    "    if BoolSum>=1: #If the key is in the dict, it adds+1 to BoolSum\n",
    "        print('True')\n",
    "\n",
    "    else:\n",
    "        print('False')  \n",
    "\n",
    "#Results: Exercise 2: Keys in Dict\n",
    "has_key({ \"a\": 44, \"b\": 45, \"c\": 46 }, \"d\") #➞ False\n",
    "\n",
    "has_key({ \"craves\": True, \"midnight\": True, \"snack\": True }, \"morning\") #➞ False\n",
    "\n",
    "has_key({ \"pot\": 1, \"tot\": 2, \"not\": 3 }, \"not\") #➞ True\n",
    "\n",
    "#-------------------------------------------------------------------------------------------------------------------------\n"
   ]
  },
  {
   "cell_type": "markdown",
   "metadata": {},
   "source": [
    "# Exercise 3: Element Count\n",
    "\n",
    "Write a function that count how many times each element in a list occurs. It should return a dict in the format `element -> count`\n",
    "\n",
    "ex:\n",
    "```\n",
    "key_count([1, 3, 2, 1, 5, 3, 5, 1, 4]) ⇒ {\n",
    "    1: 3,\n",
    "    2: 1,\n",
    "    3: 2,\n",
    "    4: 1,\n",
    "    5: 2,\n",
    "}\n",
    "```"
   ]
  },
  {
   "cell_type": "code",
   "execution_count": 5,
   "metadata": {},
   "outputs": [
    {
     "output_type": "stream",
     "name": "stdout",
     "text": [
      "1:3\n3:2\n2:1\n5:2\n4:1\n"
     ]
    }
   ],
   "source": [
    "#-------------------------------------------------------------------------------------------------------------------------\n",
    "#Exercise 3: Element Count\n",
    "\n",
    "\n",
    "def Element_Count(list1):\n",
    "    '''\n",
    "    Function that count how many times each element in a list occurs. It should return a dict in the format\n",
    "    element -> count\n",
    "    '''\n",
    "    Dict=dict((element,list1.count(element)) for element in list1)  \n",
    "    for d in Dict:\n",
    "        print(F\"{d}:{Dict[d]}\")\n",
    "\n",
    "#-------------------------------------------------------------------------------------------------------------------------\n",
    "\n",
    "#Results: Exercise 3: Element Count\n",
    "Element_Count([1, 3, 2, 1, 5, 3, 5, 1, 4]) "
   ]
  },
  {
   "cell_type": "markdown",
   "metadata": {},
   "source": [
    "# Exercise 4: Test Distinct\n",
    "\n",
    "Write a Python function that takes a sequence of numbers and determines whether all the numbers are different from each other.\n",
    "\n",
    "```\n",
    "test_distinct([2,3,4,5,7,8]) -> True\n",
    "test_distinct([2,3,4,5,8,8]) -> False\n",
    "```"
   ]
  },
  {
   "cell_type": "code",
   "execution_count": 6,
   "metadata": {},
   "outputs": [
    {
     "output_type": "stream",
     "name": "stdout",
     "text": [
      "True\nFalse\n"
     ]
    }
   ],
   "source": [
    "#-------------------------------------------------------------------------------------------------------------------------\n",
    "#Exercise 4: Test Distinct\n",
    "def test_distinct(List):\n",
    "    '''\n",
    "    Function that takes a sequence of numbers and determines whether all the numbers are different from each other.\n",
    "    '''\n",
    "    Dict=dict((element,List.count(element)) for element in List)\n",
    "    count=[]\n",
    "    for d in Dict:\n",
    "        count.append(Dict[d]) # using the same method as the 3rd exercise, we're getting the number of time an element\n",
    "                              # is repeted in the list\n",
    "    Max_count=max(count) # getting the maximum value of the list \n",
    "    if Max_count>1:      # if max_count is > than 1, it means that one or many elements are repeated\n",
    "        print('False')\n",
    "\n",
    "    else:\n",
    "        print('True') \n",
    "\n",
    "#-------------------------------------------------------------------------------------------------------------------------\n",
    "#Results: Exercise 4: Test Distinct\n",
    "test_distinct([2,3,4,5,7,8]) #-> True\n",
    "test_distinct([2,3,4,5,8,8]) #-> False\n"
   ]
  },
  {
   "cell_type": "markdown",
   "metadata": {},
   "source": [
    "# Exercise 5: Debt Calculator\n",
    "\n",
    "Write a Python program to compute the amount of the debt in n months. The borrowing amount is $100,000 and the loan adds 5% interest of the debt and rounds it to the nearest 1,000 above month by month.\n",
    "\n",
    "The function takes in an integer (the number of months) and returns the total debt including the starting \\$100,000 rounded to \\$1000 .\n",
    "\n",
    "```\n",
    "debt_total(7) -> 144000\n",
    "debt_total(8) -> 152000\n",
    "debt_total(9) -> 160000\n",
    "debt_total(1) -> 105000\n",
    "debt_total(57) -> 1736000\n",
    "```\n"
   ]
  },
  {
   "cell_type": "code",
   "execution_count": 7,
   "metadata": {},
   "outputs": [
    {
     "output_type": "stream",
     "name": "stdout",
     "text": [
      "144000\n152000\n160000\n105000\n1736000\n"
     ]
    }
   ],
   "source": [
    "#-------------------------------------------------------------------------------------------------------------------------\n",
    "#Exercise 5: Debt Calculator\n",
    "\n",
    "def roundup(x):\n",
    "    '''\n",
    "    rounds it to the nearest 1,000 above\n",
    "    '''\n",
    "    remainder=x%1000 # findd the remainder\n",
    "    if remainder!=0: # if the remainder is not 0:\n",
    "        x=x+1000-remainder \n",
    "\n",
    "    return x\n",
    "\n",
    "def debt_total(n):\n",
    "    y=100000         #The borrowing amount is $100,000\n",
    "    interest=5/100   #5% monthly interest\n",
    "    for k in range(0,n):\n",
    "        y+=y*interest\n",
    "        y=roundup(y)\n",
    "    return round(y)\n",
    "\n",
    "#-------------------------------------------------------------------------------------------------------------------------\n",
    "\n",
    "#Results: Exercise 5: Debt Calculator\n",
    "print(debt_total(7)) #-> 144000\n",
    "print(debt_total(8)) #-> 152000\n",
    "print(debt_total(9)) #-> 160000\n",
    "print(debt_total(1)) #-> 105000\n",
    "print(debt_total(57)) #-> 1736000"
   ]
  },
  {
   "cell_type": "markdown",
   "metadata": {},
   "source": [
    "# Exercise 6: Spell Checker\n",
    "\n",
    "Create a function that takes in two lists: \n",
    "\n",
    "1. A sentence as a list of user-typed words\n",
    "\n",
    "2. The list of correctly-typed words\n",
    "\n",
    "and outputs a list containing 1s (correctly-typed words) and 0s (incorrectly-typed words).\n",
    "\n",
    "### Inputs:\n",
    "> User-typed: \\[\"cat\", \"blue\", \"skt\", \"umbrells\", \"paddy\"\\]\n",
    "\n",
    "> Correct: \\[\"cat\", \"blue\", \"sky\", \"umbrella\", \"paddy\"\\]\n",
    "\n",
    "### Output: \\[ 1, 1, 0, 0, 1 \\]\n",
    "\n",
    "### Examples\n",
    "\n",
    "```\n",
    "correct_stream(\n",
    "  [\"it\", \"is\", \"find\"],\n",
    "  [\"it\", \"is\", \"fine\"]\n",
    ") ➞ [1, 1, 0]\n",
    "\n",
    "correct_stream(\n",
    "  [\"april\", \"showrs\", \"bring\", \"may\", \"flowers\"],\n",
    "  [\"april\", \"showers\", \"bring\", \"may\", \"flowers\"]\n",
    ") ➞ [1, 0, 1, 1, 1]\n",
    "\n",
    "```"
   ]
  },
  {
   "cell_type": "code",
   "execution_count": 8,
   "metadata": {},
   "outputs": [
    {
     "output_type": "stream",
     "name": "stdout",
     "text": [
      "[1, 1, 0]\n[1, 0, 1, 1, 1]\n"
     ]
    }
   ],
   "source": [
    "#-------------------------------------------------------------------------------------------------------------------------\n",
    "\n",
    "#Exercise 6: Spell Checker\n",
    "def correct_stream(User_typed,correctly_typed):\n",
    "    Corection=[] # Empty list  \n",
    "    for i in range(len(User_typed)): # Could be len(correctly_typed) too\n",
    "        Corection.append((int(User_typed[i]==correctly_typed[i]))) #int returns the value ( 1 if True and 0 if False)\n",
    "    print(Corection)\n",
    "\n",
    "\n",
    "#-------------------------------------------------------------------------------------------------------------------------\n",
    "\n",
    "# Results: Exercise 6: Spell Checker\n",
    "\n",
    "correct_stream([\"it\", \"is\", \"find\"],[\"it\", \"is\", \"fine\"]) #➞ [1, 1, 0]\n",
    "\n",
    "correct_stream([\"april\", \"showrs\", \"bring\", \"may\", \"flowers\"],\\\n",
    "    [\"april\", \"showers\", \"bring\", \"may\", \"flowers\"])# ➞ [1, 0, 1, 1, 1]"
   ]
  },
  {
   "source": [
    "# Exercise 7: FizzBuzz\n",
    "\n",
    "Fizzbuzz is a game for children and a drinking game for adults. It's also a classic programming interview question.\n",
    "\n",
    "Suppose we have a number n. We have to display a string representation of all numbers from 1 to n, but there are some constraints.\n",
    "\n",
    "    If the number is divisible by 3, write Fizz instead of the number\n",
    "    If the number is divisible by 5, write Buzz instead of the number\n",
    "    If the number is divisible by 3 and 5 both, write FizzBuzz instead of the number\n",
    "\n",
    "So the results are `1, 2, Fizz, 4, Buzz, ..., 14, Fizzbuzz, 16, 17, Fizz, 19, Buzz, ...`\n",
    "\n",
    "Write a python program that prints fizzbuzz for numbers 1 to 150"
   ],
   "cell_type": "markdown",
   "metadata": {}
  },
  {
   "cell_type": "code",
   "execution_count": 9,
   "metadata": {},
   "outputs": [
    {
     "output_type": "execute_result",
     "data": {
      "text/plain": [
       "[1,\n",
       " 2,\n",
       " 'Fizz',\n",
       " 4,\n",
       " 'Buzz',\n",
       " 'Fizz',\n",
       " 7,\n",
       " 8,\n",
       " 'Fizz',\n",
       " 'Buzz',\n",
       " 11,\n",
       " 'Fizz',\n",
       " 13,\n",
       " 14,\n",
       " 'FizzBuzz',\n",
       " 16,\n",
       " 17,\n",
       " 'Fizz',\n",
       " 19,\n",
       " 'Buzz',\n",
       " 'Fizz',\n",
       " 22,\n",
       " 23,\n",
       " 'Fizz',\n",
       " 'Buzz',\n",
       " 26,\n",
       " 'Fizz',\n",
       " 28,\n",
       " 29,\n",
       " 'FizzBuzz',\n",
       " 31,\n",
       " 32,\n",
       " 'Fizz',\n",
       " 34,\n",
       " 'Buzz',\n",
       " 'Fizz',\n",
       " 37,\n",
       " 38,\n",
       " 'Fizz',\n",
       " 'Buzz',\n",
       " 41,\n",
       " 'Fizz',\n",
       " 43,\n",
       " 44,\n",
       " 'FizzBuzz',\n",
       " 46,\n",
       " 47,\n",
       " 'Fizz',\n",
       " 49,\n",
       " 'Buzz',\n",
       " 'Fizz',\n",
       " 52,\n",
       " 53,\n",
       " 'Fizz',\n",
       " 'Buzz',\n",
       " 56,\n",
       " 'Fizz',\n",
       " 58,\n",
       " 59,\n",
       " 'FizzBuzz',\n",
       " 61,\n",
       " 62,\n",
       " 'Fizz',\n",
       " 64,\n",
       " 'Buzz',\n",
       " 'Fizz',\n",
       " 67,\n",
       " 68,\n",
       " 'Fizz',\n",
       " 'Buzz',\n",
       " 71,\n",
       " 'Fizz',\n",
       " 73,\n",
       " 74,\n",
       " 'FizzBuzz',\n",
       " 76,\n",
       " 77,\n",
       " 'Fizz',\n",
       " 79,\n",
       " 'Buzz',\n",
       " 'Fizz',\n",
       " 82,\n",
       " 83,\n",
       " 'Fizz',\n",
       " 'Buzz',\n",
       " 86,\n",
       " 'Fizz',\n",
       " 88,\n",
       " 89,\n",
       " 'FizzBuzz',\n",
       " 91,\n",
       " 92,\n",
       " 'Fizz',\n",
       " 94,\n",
       " 'Buzz',\n",
       " 'Fizz',\n",
       " 97,\n",
       " 98,\n",
       " 'Fizz',\n",
       " 'Buzz',\n",
       " 101,\n",
       " 'Fizz',\n",
       " 103,\n",
       " 104,\n",
       " 'FizzBuzz',\n",
       " 106,\n",
       " 107,\n",
       " 'Fizz',\n",
       " 109,\n",
       " 'Buzz',\n",
       " 'Fizz',\n",
       " 112,\n",
       " 113,\n",
       " 'Fizz',\n",
       " 'Buzz',\n",
       " 116,\n",
       " 'Fizz',\n",
       " 118,\n",
       " 119,\n",
       " 'FizzBuzz',\n",
       " 121,\n",
       " 122,\n",
       " 'Fizz',\n",
       " 124,\n",
       " 'Buzz',\n",
       " 'Fizz',\n",
       " 127,\n",
       " 128,\n",
       " 'Fizz',\n",
       " 'Buzz',\n",
       " 131,\n",
       " 'Fizz',\n",
       " 133,\n",
       " 134,\n",
       " 'FizzBuzz',\n",
       " 136,\n",
       " 137,\n",
       " 'Fizz',\n",
       " 139,\n",
       " 'Buzz',\n",
       " 'Fizz',\n",
       " 142,\n",
       " 143,\n",
       " 'Fizz',\n",
       " 'Buzz',\n",
       " 146,\n",
       " 'Fizz',\n",
       " 148,\n",
       " 149,\n",
       " 'FizzBuzz']"
      ]
     },
     "metadata": {},
     "execution_count": 9
    }
   ],
   "source": [
    "\n",
    "#-------------------------------------------------------------------------------------------------------------------------\n",
    "#Exercise 7: FizzBuzz\n",
    "def FizzBuzz(n):\n",
    "    '''\n",
    "    This fonction takes the number n as the argument and returns a list \n",
    "     of all numbers from 1 to n with the FizzBuzz constraints.\n",
    "    '''\n",
    "    FizzBuzz=[]\n",
    "    for i in range(1,n+1): \n",
    "        FizzBuzz.append(i)\n",
    "\n",
    "    for j in range(len(FizzBuzz)):\n",
    "        if (FizzBuzz[j]%3==0) and (FizzBuzz[j]%5==0):\n",
    "            FizzBuzz[j]='FizzBuzz' #if both of the conditions above are repected We replace the Jth element of the list \n",
    "                                   # by FizzBuzz\n",
    "        elif (FizzBuzz[j]%3==0):   # if True, the Jth element is replaced by fizz ( next line)\n",
    "                FizzBuzz[j]='Fizz'\n",
    "        elif (FizzBuzz[j]%5==0):   # if True, the Jth element is replaced by Buzz ( next line)\n",
    "            FizzBuzz[j]='Buzz'\n",
    "    return FizzBuzz\n",
    "    \n",
    "#-------------------------------------------------------------------------------------------------------------------------\n",
    "#Results : Exercise 7: FizzBuzz\n",
    "FizzBuzz(150)"
   ]
  },
  {
   "cell_type": "markdown",
   "metadata": {},
   "source": [
    "# Exercise 8: Palindrome?\n",
    "\n",
    "A palindrome is a word which reads the same backward as forwards. Write a function that returns `True` if a string is a palindrome:\n",
    "```\n",
    "    “laval” ⇒ Yes\n",
    "    “montreal” ⇒ No\n",
    "```"
   ]
  },
  {
   "cell_type": "code",
   "execution_count": 10,
   "metadata": {},
   "outputs": [
    {
     "output_type": "execute_result",
     "data": {
      "text/plain": [
       "True"
      ]
     },
     "metadata": {},
     "execution_count": 10
    }
   ],
   "source": [
    "#-------------------------------------------------------------------------------------------------------------------------\n",
    "# Exercise 8: Palindrome?\n",
    "def Palindrome(word):\n",
    "    '''\n",
    "    Function that returns True if a string is a palindrome.\n",
    "    Also works for palindrome sentence but without ponctuation.\n",
    "    '''\n",
    "    word=word.lower() # remmoves any Cap letters. ex: Laval can still work for this code\n",
    "    word=word.replace(' ','') # remooves space if it is a sentence. \n",
    "    word1=[]  #list 1\n",
    "    word2=[]  #list 2\n",
    "    for i in range(len(word)):\n",
    "        word1.append(word[i]) #adding the ith element of word to the list word1\n",
    "    for j in range(len(word)):\n",
    "        word2.append(word[-j-1]) # same as above but from -1 to - len(word)\n",
    "    \n",
    "    return word1==word2 # True if the argument is a Palindrome\n",
    "#-------------------------------------------------------------------------------------------------------------------------\n",
    "\n",
    "#Results: Exercise 8: Palindrome?\n",
    "Palindrome('Laval')# ⇒ Yes\n",
    "#Palindrome('montreal')# ⇒ No"
   ]
  },
  {
   "cell_type": "markdown",
   "metadata": {},
   "source": [
    "# Exercise 9: Counting Country IDs\n",
    "\n",
    "We have a list of user IDS with identifiers of form “userid-COUNTRYID”. Calculate how many countries we have.\n",
    "\n",
    "Ex:\n",
    "```\n",
    "[gyhwefy7832ryyg-US, iu7ytf87gyuwef-CA, 98yfyg82t3r-US] -> {'US': 2, 'CA': 1}\n",
    "\n",
    "[gyhwefy7832ryyg-US, iu7ytf87gyuwef-CA, 98yfyg82t3r-US,\n",
    "    iuhsdf897y3righsfe-US, iushdf98h23ryg-IT, iuhdf9h32ryu9gf-IT,\n",
    "    IUufgh98y34-FR, 98yfdiuhdfbviuh8-UK\n",
    "] -> {'US': 3, 'CA': 1, \"IT\": 2, 'UK':1, 'FR':1}\n",
    "```"
   ]
  },
  {
   "cell_type": "code",
   "execution_count": 11,
   "metadata": {},
   "outputs": [
    {
     "output_type": "execute_result",
     "data": {
      "text/plain": [
       "{'US': 3, 'CA': 1, 'IT': 2, 'FR': 1, 'UK': 1}"
      ]
     },
     "metadata": {},
     "execution_count": 11
    }
   ],
   "source": [
    "#-------------------------------------------------------------------------------------------------------------------------\n",
    "# Exercise 9: Counting Country IDs\n",
    "\n",
    "def Counting_Country_IDs(List):\n",
    "    Country=[] \n",
    "    CountCountry=[] #empty list for contry\n",
    "    List2=List[0].split(',') #splits the list where there is a ',' in the str to separate the users into mutiple elements \n",
    "    for i in range(len(List2)):\n",
    "        Country.append(List2[i].split('-')[1]) #split each element where there is a '-' and adding the second element to \n",
    "                                            # the contry list\n",
    "    Country\n",
    "\n",
    "    #now I'm using the same code as the ercise 3 but making a list instead of printing the values\n",
    "    Dict=dict((element,Country.count(element)) for element in Country)\n",
    "    return Dict\n",
    "#-------------------------------------------------------------------------------------------------------------------------\n",
    "\n",
    "# Results: Exercise 9: Counting Country IDs\n",
    "\n",
    "\n",
    "ListCountry=['gyhwefy7832ryyg-US, iu7ytf87gyuwef-CA, 98yfyg82t3r-US,\\\n",
    "    iuhsdf897y3righsfe-US, iushdf98h23ryg-IT, iuhdf9h32ryu9gf-IT,\\\n",
    "    IUufgh98y34-FR, 98yfdiuhdfbviuh8-UK'] \n",
    "    #-> {'US': 3, 'CA': 1, \"IT\": 2, 'UK':1, 'FR':1}\n",
    "\n",
    "Counting_Country_IDs(ListCountry)"
   ]
  },
  {
   "cell_type": "markdown",
   "metadata": {},
   "source": [
    "# Exercise 10: Identifying top countries\n",
    "\n",
    "Using your solution to the problem above, write a function that returns the top 3 countries by number of users"
   ]
  },
  {
   "cell_type": "code",
   "execution_count": 12,
   "metadata": {},
   "outputs": [
    {
     "output_type": "execute_result",
     "data": {
      "text/plain": [
       "[('US', 3), ('IT', 2), ('CA', 1)]"
      ]
     },
     "metadata": {},
     "execution_count": 12
    }
   ],
   "source": [
    "\n",
    "#-------------------------------------------------------------------------------------------------------------------------\n",
    "# Exercise 10:Identifying top countries \n",
    "def top_countries(Dict):\n",
    "    sort= sorted(Dict.items(),key=lambda x: x[1],reverse=True) #x[1] because we want the second element of the list \n",
    "    # for evry element of the dictionary, reverse because we want the values to decrease.\n",
    "\n",
    "    top3=sort[0:3]    # the fist 3 element of the list\n",
    "    return top3\n",
    "#-------------------------------------------------------------------------------------------------------------------------\n",
    "#Results Exercise 10: Identifying top countries\n",
    "Dict_Country=Counting_Country_IDs(ListCountry)\n",
    "top_countries(Dict_Country)\n"
   ]
  },
  {
   "cell_type": "markdown",
   "metadata": {},
   "source": [
    "# Exercise 11: Century\n",
    "\n",
    "Write a function that takes a year and returns its corresponding century.\n",
    "\n",
    "### Examples\n",
    "\n",
    "```\n",
    "century_from_year(2005) ➞ 21\n",
    "\n",
    "century_from_year(1850) ➞ 19\n",
    "\n",
    "century_from_year(-332) ➞ -4\n",
    "\n",
    "century_from_year(55) ➞ 1\n",
    "\n",
    "century_from_year(-65) ➞ -1\n",
    "```"
   ]
  },
  {
   "cell_type": "code",
   "execution_count": 13,
   "metadata": {},
   "outputs": [
    {
     "output_type": "stream",
     "name": "stdout",
     "text": [
      "21\n19\n-4\n1\n-1\n"
     ]
    }
   ],
   "source": [
    "#-------------------------------------------------------------------------------------------------------------------------\n",
    "# #Exercise 11: Century\n",
    "def century_from_year(Year):\n",
    "    '''\n",
    "    Function that takes a year and returns its corresponding century\n",
    "    '''\n",
    "    if Year>=0:\n",
    "        century=math.ceil(Year/100)   #rounds a number up to the next largest integer\n",
    "    if Year<=0:\n",
    "        century=math.floor(Year/100)  #Round a number downward to its nearest integer \n",
    "    return century\n",
    "#-------------------------------------------------------------------------------------------------------------------------\n",
    "\n",
    "# Results: Exercise 11: Century\n",
    "print(century_from_year(2005))# ➞ 21\n",
    "\n",
    "print(century_from_year(1850)) #➞ 19\n",
    "\n",
    "print(century_from_year(-332)) #➞ -4\n",
    "\n",
    "print(century_from_year(55)) #➞ 1\n",
    "\n",
    "print(century_from_year(-65))# ➞ -1\n"
   ]
  },
  {
   "cell_type": "markdown",
   "metadata": {},
   "source": [
    "# Exercise 12: Grade school addition\n",
    "\n",
    "Write a function that, given two lists of integers, adds them as if they were two numbers. So `12` would be `[1,2]` and `2357` would be `[2,3,5,7]`\n",
    "\n",
    "Ex:\n",
    "\n",
    "```\n",
    "    [1, 1] + [1] ⇒ 11 + 1 = 12\n",
    "    [9, 9] + [2] ⇒ 99 + 2 = 101\n",
    "```"
   ]
  },
  {
   "cell_type": "code",
   "execution_count": 14,
   "metadata": {},
   "outputs": [
    {
     "output_type": "stream",
     "name": "stdout",
     "text": [
      "12\n101\n"
     ]
    }
   ],
   "source": [
    "#-------------------------------------------------------------------------------------------------------------------------\n",
    "#Exercise 12: Grade school addition\n",
    "\n",
    "def listsum(list1,list2):\n",
    "    map1=map(str,list1)  #makes evry element of the list a str\n",
    "    map1=''.join(map1)   # join the element of the list into one str\n",
    "    int1=int(map1)       # making the str a int\n",
    "\n",
    "    map2=map(str,list2)  #makes evry element of the list a str\n",
    "    map2=''.join(map2)   # join the element of the list into one str\n",
    "    int2=int(map2)       # making the str a int\n",
    "    return int1+int2\n",
    "\n",
    "#-------------------------------------------------------------------------------------------------------------------------\n",
    "# Results: Exercise 12: Grade school addition\n",
    "print(listsum([1,1],[1]))\n",
    "\n",
    "print(listsum([9,9],[2]))\n"
   ]
  },
  {
   "cell_type": "markdown",
   "metadata": {},
   "source": [
    "# Exercise 13: Printing the pretty pyramid\n",
    "\n",
    "This pyramid is pretty!\n",
    "```\n",
    "* \n",
    "* * \n",
    "* * * \n",
    "* * * * \n",
    "* * * * * \n",
    "* * * * * * \n",
    "* * * * * \n",
    "* * * * \n",
    "* * * \n",
    "* * \n",
    "* \n",
    "```\n",
    "\n",
    "Let's celebrate that.\n",
    "\n",
    "Given a number of rows, print a sideways pyramid with this number of \"levels\" on each side. For instance your function `pretty_pyramid(4)` would print out:\n",
    "\n",
    "```\n",
    "* \n",
    "* * \n",
    "* * * \n",
    "* * * * \n",
    "* * * \n",
    "* * \n",
    "* \n",
    "```\n",
    "\n",
    "And `pretty_pyramid(8)` would print out:\n",
    "\n",
    "```\n",
    "* \n",
    "* * \n",
    "* * * \n",
    "* * * * \n",
    "* * * * * \n",
    "* * * * * * \n",
    "* * * * * * * \n",
    "* * * * * * * * \n",
    "* * * * * * * \n",
    "* * * * * * \n",
    "* * * * * \n",
    "* * * * \n",
    "* * * \n",
    "* * \n",
    "* \n",
    "```"
   ]
  },
  {
   "cell_type": "code",
   "execution_count": 15,
   "metadata": {},
   "outputs": [
    {
     "output_type": "stream",
     "name": "stdout",
     "text": [
      "\n*\n**\n***\n****\n*****\n******\n*****\n****\n***\n**\n*\n\n\n"
     ]
    }
   ],
   "source": [
    "#-------------------------------------------------------------------------------------------------------------------------\n",
    "#Exercise 13: Printing the pretty pyramid\n",
    "def pretty_pyramid(n):\n",
    "    for i in range(n+1):\n",
    "        print(i*'*')\n",
    "    for j in range(n+1):\n",
    "        print((n-1-j)*'*')\n",
    "\n",
    "\n",
    "#-------------------------------------------------------------------------------------------------------------------------\n",
    "\n",
    "# Results: Exercise 13: Printing the pretty pyramid\n",
    "pretty_pyramid(6)"
   ]
  },
  {
   "cell_type": "markdown",
   "metadata": {},
   "source": [
    "# Exercise 14: Lucky 7\n",
    "\n",
    "Return the sum of the numbers in an array, returning 0 for an empty array. \n",
    "\n",
    "The number 7 is “lucky”, therefore it does countdouble and the number that comes immediately after a 7 countstriple.\n",
    "\n",
    "```\n",
    "lucky_seven([1, 2, 4, 1]) → 8\n",
    "lucky_seven([1, 1]) → 2\n",
    "lucky_seven([1, 2, 2, 1, 7]) → 20\n",
    "lucky_seven([1, 2, 2, 1, 7, 3, 1]) → 30\n",
    "```\n"
   ]
  },
  {
   "cell_type": "code",
   "execution_count": 16,
   "metadata": {},
   "outputs": [
    {
     "output_type": "stream",
     "name": "stdout",
     "text": [
      "8\n2\n20\n30\n"
     ]
    }
   ],
   "source": [
    "#-------------------------------------------------------------------------------------------------------------------------\n",
    "#Exercise 14: Lucky 7\n",
    "def lucky_seven(List):\n",
    "\n",
    "    if len(List)==0:\n",
    "        x=np.array([0])\n",
    "    else:\n",
    "        x=np.asanyarray(List)\n",
    "\n",
    "        x1=np.where(x==7)[0] # finds indices where x is = to 7\n",
    "        x[x1]=x[x1]*2        # Multi by 2 where x=7 in the array \n",
    "        x2=np.where(x1<(x.size-1))[0] # excluding the last indice\n",
    "        x3=x1[x2]+1 #findind the indice after a 7\n",
    "        x[x3]=x[x3]*3 \n",
    "\n",
    "    return x.sum()\n",
    "\n",
    "#-------------------------------------------------------------------------------------------------------------------------\n",
    "\n",
    "print(lucky_seven([1, 2, 4, 1])) # → 8\n",
    "\n",
    "print(lucky_seven([1, 1])) #→ 2\n",
    "\n",
    "print(lucky_seven([1, 2, 2, 1, 7])) #→ 20\n",
    "\n",
    "print(lucky_seven([1, 2, 2, 1, 7, 3, 1])) #→ 30\n"
   ]
  },
  {
   "cell_type": "markdown",
   "metadata": {},
   "source": [
    "# Exercise 15: Pascal's Triangle\n",
    "\n",
    "[Pascals Triangle](https://en.wikipedia.org/wiki/Pascal%27s_triangle) is a mathematical structure that's important in statistics and [combinatorics](https://en.wikipedia.org/wiki/Combinatorics). It starts with the number 1 and expands as a pyramid where a number is the sum of it's diagonal neighbors on the row above it.\n",
    "\n",
    "It looks like this (you can find more examples in the links):\n",
    "\n",
    "```\n",
    "                 1\n",
    "               1   1\n",
    "             1   2   1\n",
    "           1   3   3   1\n",
    "         1   4   6   4   1\n",
    "       1   5   10   10   5   1\n",
    "     1   6   15   20   15   6   1\n",
    "   1   7   21   35   35   21   7   1\n",
    "```\n",
    "\n",
    "Write a function that given an integer (the number of rows) prints out pascal's triangle up to the specified row. Example:\n",
    "\n",
    "```\n",
    "pascal_triangle(8)\n",
    "```\n",
    "out:\n",
    "```\n",
    "                 1\n",
    "\n",
    "               1   1\n",
    "\n",
    "             1   2   1\n",
    "\n",
    "           1   3   3   1\n",
    "\n",
    "         1   4   6   4   1\n",
    "\n",
    "       1   5   10   10   5   1\n",
    "\n",
    "     1   6   15   20   15   6   1\n",
    "\n",
    "   1   7   21   35   35   21   7   1\n",
    "\n",
    "```\n",
    "Another example\n",
    "\n",
    "```\n",
    "pascal_triangle(3)\n",
    "```\n",
    "out:\n",
    "```\n",
    "                 1\n",
    "\n",
    "               1   1\n",
    "\n",
    "             1   2   1\n",
    "\n",
    "```"
   ]
  },
  {
   "cell_type": "code",
   "execution_count": 17,
   "metadata": {},
   "outputs": [
    {
     "output_type": "stream",
     "name": "stdout",
     "text": [
      "                                                       1\n\n                                                    1     1\n\n                                                 1     2     1\n\n                                              1     3     3     1\n\n                                           1     4     6     4     1\n\n                                        1     5     10     10     5     1\n\n                                     1     6     15     20     15     6     1\n\n                                  1     7     21     35     35     21     7     1\n\n                               1     8     28     56     70     56     28     8     1\n\n                            1     9     36     84     126     126     84     36     9     1\n\n"
     ]
    }
   ],
   "source": [
    "#-------------------------------------------------------------------------------------------------------------------------\n",
    "# Exercise 15: Pascal's Triangle   \n",
    "    \n",
    "def Factorial(n): #factorial exists in the math library \n",
    "    '''\n",
    "    Factorial !\n",
    "    this fonction does the Product of all positive integers less than or equal to n\n",
    "    (n!)\n",
    "    '''\n",
    "    Factorial=1#initial value (  because 0!=1) \n",
    "    for i in range(n): # n+1 because we don't want to start with 0\n",
    "        Factorial=Factorial*(i+1)\n",
    "    return Factorial\n",
    "         \n",
    "def binomial_coefficients(N,R): # Equation found on the link of the exercice \n",
    "    '''\n",
    "    This fonction finds the binomal coefficient with the argument N and R. \n",
    "    '''\n",
    "    bc=Factorial(N)/(Factorial(R)*Factorial(N-R)) # Note: factorial fonction exists in math but \n",
    "                                                  # but I made the fontion already \n",
    "    return int(bc)\n",
    "\n",
    "\n",
    "\n",
    "\n",
    "def pascal_triangle(R):\n",
    "    '''\n",
    "    function that given an integer (the number of rows) prints out pascal's triangle up to the specified row.\n",
    "    '''\n",
    "    for n in range(R):\n",
    "        List=[] # making a list for each iteration \n",
    "        for r in range(n+1): # n+1 because r in range(0) -> first list= empty otherwise\n",
    "            BC=binomial_coefficients(n,r) \n",
    "            List.append(BC)\n",
    "        \n",
    "        \n",
    "        print((5*R-3*n)*' ',*List, sep='     ') # the (5*R-3*n)*' ' are there to make a better look to the triangle\n",
    "        print('')                               # The factor before 'R' and 'n' are chosen by trial and error \n",
    "                                                #  *List remooves the brakets \n",
    "        \n",
    "        \n",
    "\n",
    "\n",
    "#-------------------------------------------------------------------------------------------------------------------------\n",
    "\n",
    "#Exercise 15: Pascal's Triangle\n",
    "pascal_triangle(10)"
   ]
  },
  {
   "cell_type": "code",
   "execution_count": null,
   "metadata": {},
   "outputs": [],
   "source": []
  }
 ]
}